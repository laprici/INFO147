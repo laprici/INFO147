{
 "cells": [
  {
   "cell_type": "markdown",
   "metadata": {},
   "source": [
    "Considere el dataset de diagnóstico de cancer de mama de la Universidad de Wisconsin"
   ]
  },
  {
   "cell_type": "code",
   "execution_count": null,
   "metadata": {
    "scrolled": true
   },
   "outputs": [],
   "source": [
    "%%bash\n",
    "wget -nc -c https://archive.ics.uci.edu/ml/machine-learning-databases/breast-cancer-wisconsin/wdbc.data\n",
    "wget -nc -c https://archive.ics.uci.edu/ml/machine-learning-databases/breast-cancer-wisconsin/wdbc.names"
   ]
  },
  {
   "cell_type": "markdown",
   "metadata": {},
   "source": [
    "#### Lea el *readme* y describa el dataset en términos cualitativos \n",
    "\n"
   ]
  },
  {
   "cell_type": "code",
   "execution_count": null,
   "metadata": {
    "scrolled": true
   },
   "outputs": [],
   "source": [
    "f = open ('wdbc.names','r')\n",
    "mensaje = f.read()\n",
    "print(mensaje)\n",
    "f.close()"
   ]
  },
  {
   "cell_type": "markdown",
   "metadata": {},
   "source": [
    "Los atributos son 32:\n",
    "\n",
    "    1. Número ID\n",
    "    2. Diagnóstico (M: maligno, B: benigno)\n",
    "    3. Los siguientes 30 son: la media, error estandar y peor valor de las siguientes 10 características:\n",
    "            1. Radio\n",
    "            2. Textura\n",
    "            3. Perímetro\n",
    "            4. Área\n",
    "            5. Suavidad\n",
    "            6. Compacidad\n",
    "            7. Concavidad\n",
    "            8. Puntos cóncavos\n",
    "            9. Simetría\n",
    "            10. Dimensión Factral\n"
   ]
  },
  {
   "cell_type": "markdown",
   "metadata": {},
   "source": [
    "#### Importe el dataset usando `numpy` o `pandas`"
   ]
  },
  {
   "cell_type": "code",
   "execution_count": null,
   "metadata": {},
   "outputs": [],
   "source": [
    "import pandas as pd\n",
    "\n",
    "arc = pd.read_csv(\"wdbc.data\", names = [\"ID\",\"Diagnostico\",\n",
    "                                \"MRadio\",\"MTextura\",\"MPerimetro\",\"MArea\",\"MSuavidad\",\"MCompacidad\", \"MConcavidad\",\"MPuntosConcavos\",\"MSimetria\",\"MDimFractal\",\n",
    "                                \"ERadio\",\"ETextura\",\"EPerimetro\",\"EArea\",\"ESuavidad\",\"ECompacidad\", \"EConcavidad\",\"EPuntosConcavos\",\"ESimetria\",\"EDimFractaL\",\n",
    "                                \"WRadio\",\"WTextura\",\"WPerimetro\",\"WArea\",\"WSuavidad\",\"WCompacidad\", \"WConcavidad\",\"WPuntosConcavos\",\"WSimetria\",\"WDimFractal\"])\n",
    "df = pd.DataFrame(arc)\n",
    "df[:5]\n"
   ]
  },
  {
   "cell_type": "markdown",
   "metadata": {},
   "source": [
    "La letra inicial de cada atributo se identifican por:\n",
    "\n",
    "    M: Media. Valor promedio\n",
    "    E: Error estandar\n",
    "    W: Peor valor. Media de los 3 valores más grandes"
   ]
  },
  {
   "cell_type": "markdown",
   "metadata": {},
   "source": [
    "#### Caracterice estadísticamente cada uno de los atributos\n",
    "1. Calcule la media, varianza, simetría y curtosis para cada atributo usando:\n"
   ]
  },
  {
   "cell_type": "markdown",
   "metadata": {},
   "source": [
    "a) Para todos los datos **Media, varianza, simetría y curtosis**"
   ]
  },
  {
   "cell_type": "code",
   "execution_count": 28,
   "metadata": {},
   "outputs": [
    {
     "data": {
      "text/plain": [
       "ID                 3.037183e+07\n",
       "MRadio             1.412729e+01\n",
       "MTextura           1.928965e+01\n",
       "MPerimetro         9.196903e+01\n",
       "MArea              6.548891e+02\n",
       "MSuavidad          9.636028e-02\n",
       "MCompacidad        1.043410e-01\n",
       "MConcavidad        8.879932e-02\n",
       "MPuntosConcavos    4.891915e-02\n",
       "MSimetria          1.811619e-01\n",
       "MDimFractal        6.279761e-02\n",
       "ERadio             4.051721e-01\n",
       "ETextura           1.216853e+00\n",
       "EPerimetro         2.866059e+00\n",
       "EArea              4.033708e+01\n",
       "ESuavidad          7.040979e-03\n",
       "ECompacidad        2.547814e-02\n",
       "EConcavidad        3.189372e-02\n",
       "EPuntosConcavos    1.179614e-02\n",
       "ESimetria          2.054230e-02\n",
       "EDimFractaL        3.794904e-03\n",
       "WRadio             1.626919e+01\n",
       "WTextura           2.567722e+01\n",
       "WPerimetro         1.072612e+02\n",
       "WArea              8.805831e+02\n",
       "WSuavidad          1.323686e-01\n",
       "WCompacidad        2.542650e-01\n",
       "WConcavidad        2.721885e-01\n",
       "WPuntosConcavos    1.146062e-01\n",
       "WSimetria          2.900756e-01\n",
       "WDimFractal        8.394582e-02\n",
       "dtype: float64"
      ]
     },
     "execution_count": 28,
     "metadata": {},
     "output_type": "execute_result"
    }
   ],
   "source": [
    "df.mean() # Media"
   ]
  },
  {
   "cell_type": "code",
   "execution_count": 29,
   "metadata": {},
   "outputs": [
    {
     "data": {
      "text/plain": [
       "ID                 1.563015e+16\n",
       "MRadio             1.241892e+01\n",
       "MTextura           1.849891e+01\n",
       "MPerimetro         5.904405e+02\n",
       "MArea              1.238436e+05\n",
       "MSuavidad          1.977997e-04\n",
       "MCompacidad        2.789187e-03\n",
       "MConcavidad        6.355248e-03\n",
       "MPuntosConcavos    1.505661e-03\n",
       "MSimetria          7.515428e-04\n",
       "MDimFractal        4.984872e-05\n",
       "ERadio             7.690235e-02\n",
       "ETextura           3.043159e-01\n",
       "EPerimetro         4.087896e+00\n",
       "EArea              2.069432e+03\n",
       "ESuavidad          9.015114e-06\n",
       "ECompacidad        3.207029e-04\n",
       "EConcavidad        9.111982e-04\n",
       "EPuntosConcavos    3.807242e-05\n",
       "ESimetria          6.833290e-05\n",
       "EDimFractaL        7.001692e-06\n",
       "WRadio             2.336022e+01\n",
       "WTextura           3.777648e+01\n",
       "WPerimetro         1.129131e+03\n",
       "WArea              3.241674e+05\n",
       "WSuavidad          5.213198e-04\n",
       "WCompacidad        2.475477e-02\n",
       "WConcavidad        4.352409e-02\n",
       "WPuntosConcavos    4.320741e-03\n",
       "WSimetria          3.827584e-03\n",
       "WDimFractal        3.262094e-04\n",
       "dtype: float64"
      ]
     },
     "execution_count": 29,
     "metadata": {},
     "output_type": "execute_result"
    }
   ],
   "source": [
    "df.var() #varianza"
   ]
  },
  {
   "cell_type": "code",
   "execution_count": 30,
   "metadata": {},
   "outputs": [
    {
     "data": {
      "text/plain": [
       "ID                 6.473752\n",
       "MRadio             0.942380\n",
       "MTextura           0.650450\n",
       "MPerimetro         0.990650\n",
       "MArea              1.645732\n",
       "MSuavidad          0.456324\n",
       "MCompacidad        1.190123\n",
       "MConcavidad        1.401180\n",
       "MPuntosConcavos    1.171180\n",
       "MSimetria          0.725609\n",
       "MDimFractal        1.304489\n",
       "ERadio             3.088612\n",
       "ETextura           1.646444\n",
       "EPerimetro         3.443615\n",
       "EArea              5.447186\n",
       "ESuavidad          2.314450\n",
       "ECompacidad        1.902221\n",
       "EConcavidad        5.110463\n",
       "EPuntosConcavos    1.444678\n",
       "ESimetria          2.195133\n",
       "EDimFractaL        3.923969\n",
       "WRadio             1.103115\n",
       "WTextura           0.498321\n",
       "WPerimetro         1.128164\n",
       "WArea              1.859373\n",
       "WSuavidad          0.415426\n",
       "WCompacidad        1.473555\n",
       "WConcavidad        1.150237\n",
       "WPuntosConcavos    0.492616\n",
       "WSimetria          1.433928\n",
       "WDimFractal        1.662579\n",
       "dtype: float64"
      ]
     },
     "execution_count": 30,
     "metadata": {},
     "output_type": "execute_result"
    }
   ],
   "source": [
    "df.skew() #simetría"
   ]
  },
  {
   "cell_type": "code",
   "execution_count": 31,
   "metadata": {},
   "outputs": [
    {
     "data": {
      "text/plain": [
       "ID                 42.193194\n",
       "MRadio              0.845522\n",
       "MTextura            0.758319\n",
       "MPerimetro          0.972214\n",
       "MArea               3.652303\n",
       "MSuavidad           0.855975\n",
       "MCompacidad         1.650130\n",
       "MConcavidad         1.998638\n",
       "MPuntosConcavos     1.066556\n",
       "MSimetria           1.287933\n",
       "MDimFractal         3.005892\n",
       "ERadio             17.686726\n",
       "ETextura            5.349169\n",
       "EPerimetro         21.401905\n",
       "EArea              49.209077\n",
       "ESuavidad          10.469840\n",
       "ECompacidad         5.106252\n",
       "EConcavidad        48.861395\n",
       "EPuntosConcavos     5.126302\n",
       "ESimetria           7.896130\n",
       "EDimFractaL        26.280847\n",
       "WRadio              0.944090\n",
       "WTextura            0.224302\n",
       "WPerimetro          1.070150\n",
       "WArea               4.396395\n",
       "WSuavidad           0.517825\n",
       "WCompacidad         3.039288\n",
       "WConcavidad         1.615253\n",
       "WPuntosConcavos    -0.535535\n",
       "WSimetria           4.444560\n",
       "WDimFractal         5.244611\n",
       "dtype: float64"
      ]
     },
     "execution_count": 31,
     "metadata": {},
     "output_type": "execute_result"
    }
   ],
   "source": [
    "df.kurtosis() #curtosis"
   ]
  },
  {
   "cell_type": "markdown",
   "metadata": {},
   "source": [
    "b) Separado para tumores **malignos y benignos**"
   ]
  },
  {
   "cell_type": "code",
   "execution_count": 39,
   "metadata": {},
   "outputs": [],
   "source": [
    "df1 = df[df[\"Diagnostico\"] == \"M\"] #Malignos\n",
    "df2 = df[df[\"Diagnostico\"] == \"B\"] #Benignos"
   ]
  },
  {
   "cell_type": "code",
   "execution_count": 40,
   "metadata": {},
   "outputs": [
    {
     "data": {
      "text/plain": [
       "ID                 3.681805e+07\n",
       "MRadio             1.746283e+01\n",
       "MTextura           2.160491e+01\n",
       "MPerimetro         1.153654e+02\n",
       "MArea              9.783764e+02\n",
       "MSuavidad          1.028985e-01\n",
       "MCompacidad        1.451878e-01\n",
       "MConcavidad        1.607747e-01\n",
       "MPuntosConcavos    8.799000e-02\n",
       "MSimetria          1.929090e-01\n",
       "MDimFractal        6.268009e-02\n",
       "ERadio             6.090825e-01\n",
       "ETextura           1.210915e+00\n",
       "EPerimetro         4.323929e+00\n",
       "EArea              7.267241e+01\n",
       "ESuavidad          6.780094e-03\n",
       "ECompacidad        3.228117e-02\n",
       "EConcavidad        4.182401e-02\n",
       "EPuntosConcavos    1.506047e-02\n",
       "ESimetria          2.047240e-02\n",
       "EDimFractaL        4.062406e-03\n",
       "WRadio             2.113481e+01\n",
       "WTextura           2.931821e+01\n",
       "WPerimetro         1.413703e+02\n",
       "WArea              1.422286e+03\n",
       "WSuavidad          1.448452e-01\n",
       "WCompacidad        3.748241e-01\n",
       "WConcavidad        4.506056e-01\n",
       "WPuntosConcavos    1.822373e-01\n",
       "WSimetria          3.234679e-01\n",
       "WDimFractal        9.152995e-02\n",
       "dtype: float64"
      ]
     },
     "execution_count": 40,
     "metadata": {},
     "output_type": "execute_result"
    }
   ],
   "source": [
    "df1.mean() #media en malignos"
   ]
  },
  {
   "cell_type": "code",
   "execution_count": 43,
   "metadata": {},
   "outputs": [
    {
     "data": {
      "text/plain": [
       "ID                 1.901546e+16\n",
       "MRadio             1.026543e+01\n",
       "MTextura           1.428439e+01\n",
       "MPerimetro         4.776259e+02\n",
       "MArea              1.353784e+05\n",
       "MSuavidad          1.589676e-04\n",
       "MCompacidad        2.914650e-03\n",
       "MConcavidad        5.627900e-03\n",
       "MPuntosConcavos    1.181566e-03\n",
       "MSimetria          7.638641e-04\n",
       "MDimFractal        5.735510e-05\n",
       "ERadio             1.190516e-01\n",
       "ETextura           2.334611e-01\n",
       "EPerimetro         6.597427e+00\n",
       "EArea              3.764469e+03\n",
       "ESuavidad          8.354585e-06\n",
       "ECompacidad        3.380888e-04\n",
       "EConcavidad        4.667081e-04\n",
       "EPuntosConcavos    3.044129e-05\n",
       "ESimetria          1.013020e-04\n",
       "EDimFractaL        4.167714e-06\n",
       "WRadio             1.834897e+01\n",
       "WTextura           2.953710e+01\n",
       "WPerimetro         8.677181e+02\n",
       "WArea              3.575654e+05\n",
       "WSuavidad          4.782897e-04\n",
       "WCompacidad        2.902661e-02\n",
       "WConcavidad        3.294469e-02\n",
       "WPuntosConcavos    2.144411e-03\n",
       "WSimetria          5.577843e-03\n",
       "WDimFractal        4.645270e-04\n",
       "dtype: float64"
      ]
     },
     "execution_count": 43,
     "metadata": {},
     "output_type": "execute_result"
    }
   ],
   "source": [
    "df1.var() #varianza en malignos"
   ]
  },
  {
   "cell_type": "code",
   "execution_count": 44,
   "metadata": {},
   "outputs": [
    {
     "data": {
      "text/plain": [
       "ID                 5.850541\n",
       "MRadio             0.501902\n",
       "MTextura           0.703543\n",
       "MPerimetro         0.604931\n",
       "MArea              1.117668\n",
       "MSuavidad          0.479751\n",
       "MCompacidad        0.836768\n",
       "MConcavidad        0.901628\n",
       "MPuntosConcavos    0.739092\n",
       "MSimetria          0.811960\n",
       "MDimFractal        0.894766\n",
       "ERadio             2.519402\n",
       "ETextura           1.536328\n",
       "EPerimetro         2.810137\n",
       "EArea              4.345029\n",
       "ESuavidad          3.958782\n",
       "ECompacidad        1.857940\n",
       "EConcavidad        1.623970\n",
       "EPuntosConcavos    1.437999\n",
       "ESimetria          2.519581\n",
       "EDimFractaL        1.672011\n",
       "WRadio             0.631469\n",
       "WTextura           0.539884\n",
       "WPerimetro         0.748179\n",
       "WArea              1.307762\n",
       "WSuavidad          0.437344\n",
       "WCompacidad        1.101551\n",
       "WConcavidad        0.912652\n",
       "WPuntosConcavos   -0.092809\n",
       "WSimetria          1.149001\n",
       "WDimFractal        1.363200\n",
       "dtype: float64"
      ]
     },
     "execution_count": 44,
     "metadata": {},
     "output_type": "execute_result"
    }
   ],
   "source": [
    "df1.skew() #simetría en malignos"
   ]
  },
  {
   "cell_type": "code",
   "execution_count": 45,
   "metadata": {},
   "outputs": [
    {
     "data": {
      "text/plain": [
       "ID                 34.317578\n",
       "MRadio              0.374387\n",
       "MTextura            2.379109\n",
       "MPerimetro          0.591229\n",
       "MArea               2.306042\n",
       "MSuavidad           0.431933\n",
       "MCompacidad         0.855188\n",
       "MConcavidad         1.152738\n",
       "MPuntosConcavos     0.730094\n",
       "MSimetria           1.308901\n",
       "MDimFractal         1.326270\n",
       "ERadio             12.106174\n",
       "ETextura            3.877864\n",
       "EPerimetro         13.929608\n",
       "EArea              29.045721\n",
       "ESuavidad          27.636711\n",
       "ECompacidad         5.637970\n",
       "EConcavidad         3.732019\n",
       "EPuntosConcavos     3.735444\n",
       "ESimetria           8.081183\n",
       "EDimFractaL         3.981994\n",
       "WRadio              0.324494\n",
       "WTextura            1.157731\n",
       "WPerimetro          0.615367\n",
       "WArea               2.686803\n",
       "WSuavidad           0.810338\n",
       "WCompacidad         1.712789\n",
       "WConcavidad         1.411274\n",
       "WPuntosConcavos     0.135889\n",
       "WSimetria           2.498544\n",
       "WDimFractal         3.951134\n",
       "dtype: float64"
      ]
     },
     "execution_count": 45,
     "metadata": {},
     "output_type": "execute_result"
    }
   ],
   "source": [
    "df1.kurtosis() #curtosis en malignos"
   ]
  },
  {
   "cell_type": "code",
   "execution_count": 46,
   "metadata": {},
   "outputs": [
    {
     "data": {
      "text/plain": [
       "ID                 2.654382e+07\n",
       "MRadio             1.214652e+01\n",
       "MTextura           1.791476e+01\n",
       "MPerimetro         7.807541e+01\n",
       "MArea              4.627902e+02\n",
       "MSuavidad          9.247765e-02\n",
       "MCompacidad        8.008462e-02\n",
       "MConcavidad        4.605762e-02\n",
       "MPuntosConcavos    2.571741e-02\n",
       "MSimetria          1.741860e-01\n",
       "MDimFractal        6.286739e-02\n",
       "ERadio             2.840824e-01\n",
       "ETextura           1.220380e+00\n",
       "EPerimetro         2.000321e+00\n",
       "EArea              2.113515e+01\n",
       "ESuavidad          7.195902e-03\n",
       "ECompacidad        2.143825e-02\n",
       "EConcavidad        2.599674e-02\n",
       "EPuntosConcavos    9.857653e-03\n",
       "ESimetria          2.058381e-02\n",
       "EDimFractaL        3.636051e-03\n",
       "WRadio             1.337980e+01\n",
       "WTextura           2.351507e+01\n",
       "WPerimetro         8.700594e+01\n",
       "WArea              5.588994e+02\n",
       "WSuavidad          1.249595e-01\n",
       "WCompacidad        1.826725e-01\n",
       "WConcavidad        1.662377e-01\n",
       "WPuntosConcavos    7.444434e-02\n",
       "WSimetria          2.702459e-01\n",
       "WDimFractal        7.944207e-02\n",
       "dtype: float64"
      ]
     },
     "execution_count": 46,
     "metadata": {},
     "output_type": "execute_result"
    }
   ],
   "source": [
    "df2.mean() #media en Benignos"
   ]
  },
  {
   "cell_type": "code",
   "execution_count": 47,
   "metadata": {},
   "outputs": [
    {
     "data": {
      "text/plain": [
       "ID                 1.362815e+16\n",
       "MRadio             3.170222e+00\n",
       "MTextura           1.596102e+01\n",
       "MPerimetro         1.394156e+02\n",
       "MArea              1.803303e+04\n",
       "MSuavidad          1.807970e-04\n",
       "MCompacidad        1.139059e-03\n",
       "MConcavidad        1.887220e-03\n",
       "MPuntosConcavos    2.530892e-04\n",
       "MSimetria          6.153753e-04\n",
       "MDimFractal        4.552664e-05\n",
       "ERadio             1.267192e-02\n",
       "ETextura           3.471328e-01\n",
       "EPerimetro         5.947019e-01\n",
       "EArea              7.820700e+01\n",
       "ESuavidad          9.367331e-06\n",
       "ECompacidad        2.673719e-04\n",
       "EConcavidad        1.083610e-03\n",
       "EPuntosConcavos    3.258840e-05\n",
       "ESimetria          4.897954e-05\n",
       "EDimFractaL        8.633131e-06\n",
       "WRadio             3.925817e+00\n",
       "WTextura           3.018354e+01\n",
       "WPerimetro         1.829822e+02\n",
       "WArea              2.676543e+04\n",
       "WSuavidad          4.005388e-04\n",
       "WCompacidad        8.497149e-03\n",
       "WConcavidad        1.970310e-02\n",
       "WPuntosConcavos    1.281452e-03\n",
       "WSimetria          1.742626e-03\n",
       "WDimFractal        1.905517e-04\n",
       "dtype: float64"
      ]
     },
     "execution_count": 47,
     "metadata": {},
     "output_type": "execute_result"
    }
   ],
   "source": [
    "df2.var() #varianza en Benignos"
   ]
  },
  {
   "cell_type": "code",
   "execution_count": 48,
   "metadata": {},
   "outputs": [
    {
     "data": {
      "text/plain": [
       "ID                 6.981074\n",
       "MRadio            -0.083799\n",
       "MTextura           0.981344\n",
       "MPerimetro        -0.064684\n",
       "MArea              0.342265\n",
       "MSuavidad          0.663448\n",
       "MCompacidad        1.212443\n",
       "MConcavidad        3.473264\n",
       "MPuntosConcavos    0.924965\n",
       "MSimetria          0.658943\n",
       "MDimFractal        1.650663\n",
       "ERadio             1.503924\n",
       "ETextura           1.654504\n",
       "EPerimetro         1.187740\n",
       "EArea              1.646142\n",
       "ESuavidad          1.508496\n",
       "ECompacidad        2.212292\n",
       "EConcavidad        6.327025\n",
       "EPuntosConcavos    2.147109\n",
       "ESimetria          1.377815\n",
       "EDimFractaL        4.335433\n",
       "WRadio            -0.031586\n",
       "WTextura           0.721816\n",
       "WPerimetro         0.008736\n",
       "WArea              0.367454\n",
       "WSuavidad          0.341156\n",
       "WCompacidad        1.096122\n",
       "WConcavidad        2.553715\n",
       "WPuntosConcavos    0.112265\n",
       "WSimetria          0.234655\n",
       "WDimFractal        1.415732\n",
       "dtype: float64"
      ]
     },
     "execution_count": 48,
     "metadata": {},
     "output_type": "execute_result"
    }
   ],
   "source": [
    "df2.skew() #simetría en benignos"
   ]
  },
  {
   "cell_type": "code",
   "execution_count": 50,
   "metadata": {},
   "outputs": [
    {
     "data": {
      "text/plain": [
       "ID                 49.471604\n",
       "MRadio             -0.012283\n",
       "MTextura            1.219651\n",
       "MPerimetro         -0.016463\n",
       "MArea               0.309498\n",
       "MSuavidad           1.855395\n",
       "MCompacidad         2.286519\n",
       "MConcavidad        20.834811\n",
       "MPuntosConcavos     1.038008\n",
       "MSimetria           1.305952\n",
       "MDimFractal         4.484522\n",
       "ERadio              4.011771\n",
       "ETextura            5.442262\n",
       "EPerimetro          1.745319\n",
       "EArea               5.346992\n",
       "ESuavidad           3.062153\n",
       "ECompacidad         6.004165\n",
       "EConcavidad        59.045004\n",
       "EPuntosConcavos    10.641965\n",
       "ESimetria           3.340957\n",
       "EDimFractaL        27.749119\n",
       "WRadio             -0.163079\n",
       "WTextura            0.447817\n",
       "WPerimetro         -0.230226\n",
       "WArea               0.182866\n",
       "WSuavidad           0.402556\n",
       "WCompacidad         1.737033\n",
       "WConcavidad        12.610815\n",
       "WPuntosConcavos    -0.164534\n",
       "WSimetria           0.295444\n",
       "WDimFractal         3.173717\n",
       "dtype: float64"
      ]
     },
     "execution_count": 50,
     "metadata": {},
     "output_type": "execute_result"
    }
   ],
   "source": [
    "df2.kurtosis() #curtosis en Benignos"
   ]
  },
  {
   "cell_type": "markdown",
   "metadata": {},
   "source": [
    " **Explique el significado de los valores obtenidos. ¿Cuales atributos se acomodan a una normal?**"
   ]
  },
  {
   "cell_type": "markdown",
   "metadata": {},
   "source": [
    "1. **Media** es el valor promedio de los datos\n",
    "1. **Varianza** es la media aritmética del cuadrado de las desviaciones respecto a la media de una distribución estadística. Intenta describir la dispersión de los datos. \n",
    "1. **Simetría** indica la simetría de la distribución de una variable respecto a la media aritmética. Si es = 0: normalmente distribuido, si es >0: más peso en la parte izquierda de la distribución y si es <0: más peso en la parte derecha\n",
    "1. **Curtosis** es una medida de forma que mide cuán escarpada o achatada está una curva o distribución. Este coeficiente indica la cantidad de datos que hay cercanos a la media, de manera que a mayor grado de curtosis, más escarpada (o apuntada) será la forma de la curva."
   ]
  },
  {
   "cell_type": "markdown",
   "metadata": {},
   "source": [
    "**2. Visualice la distribución empírica de cada atributo con `matplotlib` usando:**"
   ]
  },
  {
   "cell_type": "markdown",
   "metadata": {},
   "source": [
    "**(a) todos los datos**"
   ]
  },
  {
   "cell_type": "code",
   "execution_count": null,
   "metadata": {},
   "outputs": [],
   "source": []
  },
  {
   "cell_type": "markdown",
   "metadata": {},
   "source": [
    "**(b) por separado para tumores benignos y malignos**"
   ]
  },
  {
   "cell_type": "code",
   "execution_count": null,
   "metadata": {},
   "outputs": [],
   "source": []
  },
  {
   "cell_type": "markdown",
   "metadata": {},
   "source": [
    "**¿Qué tipo de distribución sería apropiada para ajustar cada atributo? ¿Puede diferenciar el tipo de tumor usando los atributos de forma aislada?**"
   ]
  },
  {
   "cell_type": "code",
   "execution_count": null,
   "metadata": {},
   "outputs": [],
   "source": []
  },
  {
   "cell_type": "markdown",
   "metadata": {},
   "source": [
    "#### Búsqueda de correlaciones\n",
    "\n",
    "1. Construya una matriz de *scatter plots* usando `matplotlib` o [`pandas`](https://pandas.pydata.org/pandas-docs/stable/user_guide/visualization.html#scatter-matrix-plot) entre todos los pares de atributos. Use un color distinto para los tumores malignos y los benignos.  \n",
    "1. Use un modelo de recta (dos parámetros) y ajustelo a cada par de atributos distintos. Muestre la recta obtenida en cada uno de los *scatter plots*. Añada una caja de texto con el valor del estadístico $r$. \n",
    "1. ¿Cuáles pares de variables están más correlacionadas? Justifique ¿Cuáles pares de variables separan mejor los tipos de tumor?"
   ]
  },
  {
   "cell_type": "markdown",
   "metadata": {},
   "source": [
    "**1. Construya una matriz de scatter plots usando matplotlib o pandas entre todos los pares de atributos. Use un color distinto para los tumores malignos y los benignos.**"
   ]
  },
  {
   "cell_type": "code",
   "execution_count": 1,
   "metadata": {},
   "outputs": [
    {
     "ename": "NameError",
     "evalue": "name 'scatter_matrix' is not defined",
     "output_type": "error",
     "traceback": [
      "\u001b[1;31m---------------------------------------------------------------------------\u001b[0m",
      "\u001b[1;31mNameError\u001b[0m                                 Traceback (most recent call last)",
      "\u001b[1;32m<ipython-input-1-1085482ab147>\u001b[0m in \u001b[0;36m<module>\u001b[1;34m\u001b[0m\n\u001b[0;32m      2\u001b[0m \u001b[1;32mimport\u001b[0m \u001b[0mmatplotlib\u001b[0m\u001b[1;33m.\u001b[0m\u001b[0mpyplot\u001b[0m \u001b[1;32mas\u001b[0m \u001b[0mplt\u001b[0m\u001b[1;33m\u001b[0m\u001b[1;33m\u001b[0m\u001b[0m\n\u001b[0;32m      3\u001b[0m \u001b[1;33m\u001b[0m\u001b[0m\n\u001b[1;32m----> 4\u001b[1;33m \u001b[0mscatter_matrix\u001b[0m\u001b[1;33m(\u001b[0m\u001b[0mdf\u001b[0m\u001b[1;33m)\u001b[0m\u001b[1;33m\u001b[0m\u001b[1;33m\u001b[0m\u001b[0m\n\u001b[0m\u001b[0;32m      5\u001b[0m \u001b[0mplt\u001b[0m\u001b[1;33m.\u001b[0m\u001b[0mshow\u001b[0m\u001b[1;33m(\u001b[0m\u001b[1;33m)\u001b[0m\u001b[1;33m\u001b[0m\u001b[1;33m\u001b[0m\u001b[0m\n",
      "\u001b[1;31mNameError\u001b[0m: name 'scatter_matrix' is not defined"
     ]
    }
   ],
   "source": [
    "import numpy as np\n",
    "import matplotlib.pyplot as plt\n",
    "\n",
    "scatter_matrix(df)\n",
    "plt.show()\n"
   ]
  },
  {
   "cell_type": "markdown",
   "metadata": {},
   "source": [
    "#### Regresión logística: Teórico\n",
    "\n",
    "Sea un problema de clasificación de $M$ observaciones $\\{\\vec x_i, y_i\\}$ donde $\\vec x_i \\in \\mathbb{R}^D$ (D atributos) y $y_i \\in \\{0, 1\\}$ (clasificación binaria)\n",
    "\n",
    "Se propone el siguiente modelo con $D+1$ parámetros\n",
    "\n",
    "$$\n",
    "y_i = \\mathcal{S} \\left(\\theta_0 + \\sum_{j=1}^D \\theta_j x_{ij}\\right),\n",
    "$$\n",
    "\n",
    "donde $\\mathcal{S}(z) = \\frac{1}{1+\\exp(-z)}$\n",
    "\n",
    "> Asuma que las observaciones son iid y que $y_i$ se  distribuye Bernoulli \n",
    "\n",
    "La salida de este clasificador es un valor en $[0, 1]$. Para tomar un decisión binaria se debe seleccionar un umbral $\\mathcal{T}$ tal que\n",
    "\n",
    "$$\n",
    "d_i = \n",
    "\\begin{cases} \n",
    "\\text{maligno} (0), & \\text{si } p(y_i|\\theta, \\vec x_i) < \\mathcal{T} \\\\ \n",
    "\\text{benigno} (1), & \\text{si } p(y_i|\\theta, \\vec x_i) \\geq \\mathcal{T}\n",
    "\\end{cases}\n",
    "$$\n",
    "\n",
    "Una vez seleccionado el umbral se puede contar la cantidad de \n",
    "- True positives (TP): Tumores benignos clasificados como benignos\n",
    "- True negative (TN): Tumores malignos clasificados como malignos\n",
    "- False positives (FP): Tumores malignos clasificados como benignos\n",
    "- False negative (FN): Tumores  benignos clasificados como malignos\n",
    "\n",
    "Estas métricas son la base para construir una \"tabla de confusión\" para el clasificador\n",
    "\n",
    "|Clasificado como/En realidad era|Positivo|Negativo|\n",
    "|---|---|---|\n",
    "|Positivo:|TP | FP |\n",
    "|Negativo:| FN | TN |\n",
    "\n",
    "Actividades:\n",
    "1. Obtenga una expresión simplificada para la función de costo: máximo logaritmo de la verosimilitud \n",
    "1. Obtenga una expresión simplificada para el gradiente de la función de costo con respecto a $\\theta$\n",
    "1. Investigue sobre las métricas para clasificación binaria: *precision*, *recall*, *f1* y *accuracy*. Explique cada una y discuta sobre las ventajas de usar el puntaje f1 en lugar del *accuracy* de un clasificador para evaluar su desempeño\n",
    "\n",
    "Hints\n",
    "- $d\\mathcal{S}(z)/d\\theta = \\mathcal{S}(z)(1-\\mathcal{S}(z))$\n",
    "- $\\log(1 - \\mathcal{S}(z)) = \\log \\mathcal{S}(z) -z$ "
   ]
  },
  {
   "cell_type": "code",
   "execution_count": null,
   "metadata": {},
   "outputs": [],
   "source": []
  },
  {
   "cell_type": "markdown",
   "metadata": {},
   "source": [
    "#### Regresión logística: Práctico\n",
    "\n",
    "1. Implemente en Python la función de costo y su gradiente para el problema de clasificación de tumores\n",
    "1. Divida el conjunto de datos en subconjuntos de entrenamiento y prueba seleccionados aleatoriamente pero manteniendo la distribución de las clases (puede usar [`sklearn.model_selection.StratifiedShuffleSplit`](https://scikit-learn.org/stable/modules/generated/sklearn.model_selection.StratifiedShuffleSplit.html#sklearn.model_selection.StratifiedShuffleSplit))\n",
    "1. Entrene un regresor logístico usando `scipy.optimize`. Seleccione un método de optimización justificando su decisión. Calibre el método seleccionado. Seleccione el modelo que minimiza el error de prueba.\n",
    "1. Seleccione el umbral $\\mathcal{T}$ que maximice el puntaje f1 y muestre la tabla de confusión obtenida en el conjunto de prueba (puede usar las funciones de [`sklearn.metrics`](https://scikit-learn.org/stable/modules/classes.html#module-sklearn.metrics))\n",
    "1. Proponga e implemente una metodología para cuantificar la incerteza de su clasificador\n",
    "\n",
    "Recomendaciones\n",
    "- Estandarize los atributos antes de entrenar el predictor \n",
    "- Cuide de no evaluar $\\log(0)$\n",
    "- [`np.logaddexp`](https://docs.scipy.org/doc/numpy/reference/generated/numpy.logaddexp.html)\n"
   ]
  },
  {
   "cell_type": "code",
   "execution_count": null,
   "metadata": {},
   "outputs": [],
   "source": []
  }
 ],
 "metadata": {
  "kernelspec": {
   "display_name": "Python 3",
   "language": "python",
   "name": "python3"
  },
  "language_info": {
   "codemirror_mode": {
    "name": "ipython",
    "version": 3
   },
   "file_extension": ".py",
   "mimetype": "text/x-python",
   "name": "python",
   "nbconvert_exporter": "python",
   "pygments_lexer": "ipython3",
   "version": "3.7.1"
  }
 },
 "nbformat": 4,
 "nbformat_minor": 2
}
