{
 "cells": [
  {
   "cell_type": "markdown",
   "metadata": {},
   "source": [
    "# Actividad práctica \n",
    "\n",
    "### Instrucciones\n",
    "- Escriba las rutinas de Python necesarias para resolver los problemas de cada punto\n",
    "- Siga las instrucciones y conteste donde se pida\n",
    "- Entregue el notebook con sus respuestas al correo: phuijse@inf.uach.cl\n",
    "- El trabajo es individual\n",
    "\n",
    "### Introducción\n",
    "En esta actividad usaremos la base de datos [*Auto Milles per Gallon Data Set*](https://archive.ics.uci.edu/ml/datasets/auto+mpg) del repositorio UCI\n",
    "\n",
    "Puede descargarla usando el siguiente bloque"
   ]
  },
  {
   "cell_type": "code",
   "execution_count": 1,
   "metadata": {
    "scrolled": true
   },
   "outputs": [
    {
     "name": "stderr",
     "output_type": "stream",
     "text": [
      "mesg: ttyname failed: Inappropriate ioctl for device\n",
      "--2019-05-09 00:35:41--  https://archive.ics.uci.edu/ml/machine-learning-databases/auto-mpg/auto-mpg.data-original\n",
      "Resolving archive.ics.uci.edu (archive.ics.uci.edu)... 128.195.10.252\n",
      "Connecting to archive.ics.uci.edu (archive.ics.uci.edu)|128.195.10.252|:443... connected.\n",
      "HTTP request sent, awaiting response... 200 OK\n",
      "Length: 32149 (31K) [application/x-httpd-php]\n",
      "Saving to: â€˜auto.csvâ€™\n",
      "\n",
      "     0K .......... .......... .......... .                    100% 80.1K=0.4s\n",
      "\n",
      "2019-05-09 00:35:43 (80.1 KB/s) - â€˜auto.csvâ€™ saved [32149/32149]\n",
      "\n",
      "--2019-05-09 00:35:43--  https://archive.ics.uci.edu/ml/machine-learning-databases/auto-mpg/auto-mpg.names\n",
      "Resolving archive.ics.uci.edu (archive.ics.uci.edu)... 128.195.10.252\n",
      "Connecting to archive.ics.uci.edu (archive.ics.uci.edu)|128.195.10.252|:443... connected.\n",
      "HTTP request sent, awaiting response... 200 OK\n",
      "Length: 1660 (1.6K) [application/x-httpd-php]\n",
      "Saving to: â€˜READMEâ€™\n",
      "\n",
      "     0K .                                                     100% 24.7M=0s\n",
      "\n",
      "2019-05-09 00:35:45 (24.7 MB/s) - â€˜READMEâ€™ saved [1660/1660]\n",
      "\n"
     ]
    }
   ],
   "source": [
    "%%bash\n",
    "wget -O auto.csv -c https://archive.ics.uci.edu/ml/machine-learning-databases/auto-mpg/auto-mpg.data-original \n",
    "wget -O README -c https://archive.ics.uci.edu/ml/machine-learning-databases/auto-mpg/auto-mpg.names "
   ]
  },
  {
   "cell_type": "markdown",
   "metadata": {},
   "source": [
    "### Información preliminar"
   ]
  },
  {
   "cell_type": "markdown",
   "metadata": {},
   "source": [
    "1. Use las herramientas de UNIX para leer el archivo README en el notebook"
   ]
  },
  {
   "cell_type": "code",
   "execution_count": 7,
   "metadata": {},
   "outputs": [
    {
     "name": "stdout",
     "output_type": "stream",
     "text": [
      "1. Title: Auto-Mpg Data\n",
      "\n",
      "2. Sources:\n",
      "   (a) Origin:  This dataset was taken from the StatLib library which is\n",
      "                maintained at Carnegie Mellon University. The dataset was \n",
      "                used in the 1983 American Statistical Association Exposition.\n",
      "   (c) Date: July 7, 1993\n",
      "\n",
      "3. Past Usage:\n",
      "    -  See 2b (above)\n",
      "    -  Quinlan,R. (1993). Combining Instance-Based and Model-Based Learning.\n",
      "       In Proceedings on the Tenth International Conference of Machine \n",
      "       Learning, 236-243, University of Massachusetts, Amherst. Morgan\n",
      "       Kaufmann.\n",
      "\n",
      "4. Relevant Information:\n",
      "\n",
      "   This dataset is a slightly modified version of the dataset provided in\n",
      "   the StatLib library.  In line with the use by Ross Quinlan (1993) in\n",
      "   predicting the attribute \"mpg\", 8 of the original instances were removed \n",
      "   because they had unknown values for the \"mpg\" attribute.  The original \n",
      "   dataset is available in the file \"auto-mpg.data-original\".\n",
      "\n",
      "   \"The data concerns city-cycle fuel consumption in miles per gallon,\n",
      "    to be predicted in terms of 3 multivalued discrete and 5 continuous\n",
      "    attributes.\" (Quinlan, 1993)\n",
      "\n",
      "5. Number of Instances: 398\n",
      "\n",
      "6. Number of Attributes: 9 including the class attribute\n",
      "\n",
      "7. Attribute Information:\n",
      "\n",
      "    1. mpg:           continuous\n",
      "    2. cylinders:     multi-valued discrete\n",
      "    3. displacement:  continuous\n",
      "    4. horsepower:    continuous\n",
      "    5. weight:        continuous\n",
      "    6. acceleration:  continuous\n",
      "    7. model year:    multi-valued discrete\n",
      "    8. origin:        multi-valued discrete\n",
      "    9. car name:      string (unique for each instance)\n",
      "\n",
      "8. Missing Attribute Values:  horsepower has 6 missing values\n",
      "\n"
     ]
    }
   ],
   "source": [
    "%%bash\n",
    "cat /mnt/c/Users/Pricila/INFO147-master/unidad1/tarea/data/README"
   ]
  },
  {
   "cell_type": "markdown",
   "metadata": {},
   "source": [
    "2. Responda ¿Cuántos y cuáles son los atributos (características)? ¿De qué tipo es cada uno?"
   ]
  },
  {
   "cell_type": "markdown",
   "metadata": {},
   "source": [
    "Los atributos son 9 y, sus nombres, tipo y descripción respectiva son:    \n",
    "    \n",
    "         NOMBRE           TIPO                             DESCRIPCIÓN\n",
    "     \n",
    "    1. mpg:           continuous                         Rendimiento (\"miles per gallon\")  \n",
    "    2. cylinders:     multi-valued discrete              Número de cilindros\n",
    "    3. displacement:  continuous                         Desplazamiento\n",
    "    4. horsepower:    continuous                         Caballos de fuerza\n",
    "    5. weight:        continuous                         Peso\n",
    "    6. acceleration:  continuous                         Aceleración                        \n",
    "    7. model year:    multi-valued discrete              Año de modelo\n",
    "    8. origin:        multi-valued discrete              Origen ?\n",
    "    9. car name:      string (unique for each instance)  Nombre"
   ]
  },
  {
   "cell_type": "markdown",
   "metadata": {},
   "source": [
    "3. Responda ¿Cuantas instancias/ejemplos existen?"
   ]
  },
  {
   "cell_type": "code",
   "execution_count": null,
   "metadata": {},
   "outputs": [],
   "source": []
  },
  {
   "cell_type": "markdown",
   "metadata": {},
   "source": [
    "### Lectura de datos\n",
    "\n",
    "1. Cree un `DataFrame` a partir de `auto.csv` \n",
    "    1. Use una columna por atributo* \n",
    "    1. Use los nombres de columna descritos en `README` \n",
    "1. Imprima las primeras 5 filas del dataframe\n",
    "\n",
    "**HINT:** Verifique el uso  del argumento `delim_whitespace`*"
   ]
  },
  {
   "cell_type": "code",
   "execution_count": 428,
   "metadata": {},
   "outputs": [
    {
     "data": {
      "text/html": [
       "<div>\n",
       "<style scoped>\n",
       "    .dataframe tbody tr th:only-of-type {\n",
       "        vertical-align: middle;\n",
       "    }\n",
       "\n",
       "    .dataframe tbody tr th {\n",
       "        vertical-align: top;\n",
       "    }\n",
       "\n",
       "    .dataframe thead th {\n",
       "        text-align: right;\n",
       "    }\n",
       "</style>\n",
       "<table border=\"1\" class=\"dataframe\">\n",
       "  <thead>\n",
       "    <tr style=\"text-align: right;\">\n",
       "      <th></th>\n",
       "      <th>mpg</th>\n",
       "      <th>cylinders</th>\n",
       "      <th>displacement</th>\n",
       "      <th>horsepower</th>\n",
       "      <th>weight</th>\n",
       "      <th>acceleration</th>\n",
       "      <th>year</th>\n",
       "      <th>origin</th>\n",
       "      <th>name</th>\n",
       "    </tr>\n",
       "  </thead>\n",
       "  <tbody>\n",
       "    <tr>\n",
       "      <th>0</th>\n",
       "      <td>18.0</td>\n",
       "      <td>8.0</td>\n",
       "      <td>307.0</td>\n",
       "      <td>130.0</td>\n",
       "      <td>3504.0</td>\n",
       "      <td>12.0</td>\n",
       "      <td>70.0</td>\n",
       "      <td>1.0</td>\n",
       "      <td>chevrolet chevelle malibu</td>\n",
       "    </tr>\n",
       "    <tr>\n",
       "      <th>1</th>\n",
       "      <td>15.0</td>\n",
       "      <td>8.0</td>\n",
       "      <td>350.0</td>\n",
       "      <td>165.0</td>\n",
       "      <td>3693.0</td>\n",
       "      <td>11.5</td>\n",
       "      <td>70.0</td>\n",
       "      <td>1.0</td>\n",
       "      <td>buick skylark 320</td>\n",
       "    </tr>\n",
       "    <tr>\n",
       "      <th>2</th>\n",
       "      <td>18.0</td>\n",
       "      <td>8.0</td>\n",
       "      <td>318.0</td>\n",
       "      <td>150.0</td>\n",
       "      <td>3436.0</td>\n",
       "      <td>11.0</td>\n",
       "      <td>70.0</td>\n",
       "      <td>1.0</td>\n",
       "      <td>plymouth satellite</td>\n",
       "    </tr>\n",
       "    <tr>\n",
       "      <th>3</th>\n",
       "      <td>16.0</td>\n",
       "      <td>8.0</td>\n",
       "      <td>304.0</td>\n",
       "      <td>150.0</td>\n",
       "      <td>3433.0</td>\n",
       "      <td>12.0</td>\n",
       "      <td>70.0</td>\n",
       "      <td>1.0</td>\n",
       "      <td>amc rebel sst</td>\n",
       "    </tr>\n",
       "    <tr>\n",
       "      <th>4</th>\n",
       "      <td>17.0</td>\n",
       "      <td>8.0</td>\n",
       "      <td>302.0</td>\n",
       "      <td>140.0</td>\n",
       "      <td>3449.0</td>\n",
       "      <td>10.5</td>\n",
       "      <td>70.0</td>\n",
       "      <td>1.0</td>\n",
       "      <td>ford torino</td>\n",
       "    </tr>\n",
       "  </tbody>\n",
       "</table>\n",
       "</div>"
      ],
      "text/plain": [
       "    mpg  cylinders  displacement  horsepower  weight  acceleration  year  \\\n",
       "0  18.0        8.0         307.0       130.0  3504.0          12.0  70.0   \n",
       "1  15.0        8.0         350.0       165.0  3693.0          11.5  70.0   \n",
       "2  18.0        8.0         318.0       150.0  3436.0          11.0  70.0   \n",
       "3  16.0        8.0         304.0       150.0  3433.0          12.0  70.0   \n",
       "4  17.0        8.0         302.0       140.0  3449.0          10.5  70.0   \n",
       "\n",
       "   origin                       name  \n",
       "0     1.0  chevrolet chevelle malibu  \n",
       "1     1.0          buick skylark 320  \n",
       "2     1.0         plymouth satellite  \n",
       "3     1.0              amc rebel sst  \n",
       "4     1.0                ford torino  "
      ]
     },
     "execution_count": 428,
     "metadata": {},
     "output_type": "execute_result"
    }
   ],
   "source": [
    "import pandas as pd\n",
    "arc = pd.read_csv(\"Data/auto.csv\", delim_whitespace=True, names=[\"mpg\",\"cylinders\",\"displacement\",\n",
    "                                                                \"horsepower\",\"weight\",\"acceleration\",                                                                \n",
    "                                                                \"year\",\"origin\",\"name\"])\n",
    "df = pd.DataFrame(arc)\n",
    "df[:5]"
   ]
  },
  {
   "cell_type": "markdown",
   "metadata": {},
   "source": [
    "### Manipulación de columnas \n"
   ]
  },
  {
   "cell_type": "markdown",
   "metadata": {},
   "source": [
    "**1. Convierta las columnas *cylinders*, *year* y *origin* a valores enteros**\n"
   ]
  },
  {
   "cell_type": "code",
   "execution_count": 429,
   "metadata": {
    "scrolled": true
   },
   "outputs": [
    {
     "data": {
      "text/plain": [
       "mpg             float64\n",
       "cylinders       float64\n",
       "displacement    float64\n",
       "horsepower      float64\n",
       "weight          float64\n",
       "acceleration    float64\n",
       "year            float64\n",
       "origin          float64\n",
       "name             object\n",
       "dtype: object"
      ]
     },
     "execution_count": 429,
     "metadata": {},
     "output_type": "execute_result"
    }
   ],
   "source": [
    "df.dtypes"
   ]
  },
  {
   "cell_type": "code",
   "execution_count": 430,
   "metadata": {},
   "outputs": [
    {
     "data": {
      "text/plain": [
       "mpg             float64\n",
       "cylinders         int32\n",
       "displacement    float64\n",
       "horsepower      float64\n",
       "weight          float64\n",
       "acceleration    float64\n",
       "year              int32\n",
       "origin            int32\n",
       "name             object\n",
       "dtype: object"
      ]
     },
     "execution_count": 430,
     "metadata": {},
     "output_type": "execute_result"
    }
   ],
   "source": [
    "#conv = dict.fromkeys(['cylinders', 'year', 'origin'], lambda x: int(x.strip(\" \")))\n",
    "\n",
    "df[\"year\"] = df[\"year\"].astype(\"int\")\n",
    "df[\"origin\"] = df[\"origin\"].astype(\"int\")\n",
    "df[\"cylinders\"] = df[\"cylinders\"].astype(\"int\")\n",
    "\n",
    "df.dtypes"
   ]
  },
  {
   "cell_type": "markdown",
   "metadata": {},
   "source": [
    "**2. Reemplace los valores $[1, 2, 3]$ de *origin* por *USA*, *Europe*, *Japan*, respectivamente**"
   ]
  },
  {
   "cell_type": "code",
   "execution_count": 431,
   "metadata": {
    "scrolled": true
   },
   "outputs": [
    {
     "data": {
      "text/html": [
       "<div>\n",
       "<style scoped>\n",
       "    .dataframe tbody tr th:only-of-type {\n",
       "        vertical-align: middle;\n",
       "    }\n",
       "\n",
       "    .dataframe tbody tr th {\n",
       "        vertical-align: top;\n",
       "    }\n",
       "\n",
       "    .dataframe thead th {\n",
       "        text-align: right;\n",
       "    }\n",
       "</style>\n",
       "<table border=\"1\" class=\"dataframe\">\n",
       "  <thead>\n",
       "    <tr style=\"text-align: right;\">\n",
       "      <th></th>\n",
       "      <th>mpg</th>\n",
       "      <th>cylinders</th>\n",
       "      <th>displacement</th>\n",
       "      <th>horsepower</th>\n",
       "      <th>weight</th>\n",
       "      <th>acceleration</th>\n",
       "      <th>year</th>\n",
       "      <th>origin</th>\n",
       "      <th>name</th>\n",
       "    </tr>\n",
       "  </thead>\n",
       "  <tbody>\n",
       "    <tr>\n",
       "      <th>0</th>\n",
       "      <td>18.0</td>\n",
       "      <td>8</td>\n",
       "      <td>307.0</td>\n",
       "      <td>130.0</td>\n",
       "      <td>3504.0</td>\n",
       "      <td>12.0</td>\n",
       "      <td>70</td>\n",
       "      <td>USA</td>\n",
       "      <td>chevrolet chevelle malibu</td>\n",
       "    </tr>\n",
       "    <tr>\n",
       "      <th>1</th>\n",
       "      <td>15.0</td>\n",
       "      <td>8</td>\n",
       "      <td>350.0</td>\n",
       "      <td>165.0</td>\n",
       "      <td>3693.0</td>\n",
       "      <td>11.5</td>\n",
       "      <td>70</td>\n",
       "      <td>USA</td>\n",
       "      <td>buick skylark 320</td>\n",
       "    </tr>\n",
       "    <tr>\n",
       "      <th>2</th>\n",
       "      <td>18.0</td>\n",
       "      <td>8</td>\n",
       "      <td>318.0</td>\n",
       "      <td>150.0</td>\n",
       "      <td>3436.0</td>\n",
       "      <td>11.0</td>\n",
       "      <td>70</td>\n",
       "      <td>USA</td>\n",
       "      <td>plymouth satellite</td>\n",
       "    </tr>\n",
       "    <tr>\n",
       "      <th>3</th>\n",
       "      <td>16.0</td>\n",
       "      <td>8</td>\n",
       "      <td>304.0</td>\n",
       "      <td>150.0</td>\n",
       "      <td>3433.0</td>\n",
       "      <td>12.0</td>\n",
       "      <td>70</td>\n",
       "      <td>USA</td>\n",
       "      <td>amc rebel sst</td>\n",
       "    </tr>\n",
       "    <tr>\n",
       "      <th>4</th>\n",
       "      <td>17.0</td>\n",
       "      <td>8</td>\n",
       "      <td>302.0</td>\n",
       "      <td>140.0</td>\n",
       "      <td>3449.0</td>\n",
       "      <td>10.5</td>\n",
       "      <td>70</td>\n",
       "      <td>USA</td>\n",
       "      <td>ford torino</td>\n",
       "    </tr>\n",
       "  </tbody>\n",
       "</table>\n",
       "</div>"
      ],
      "text/plain": [
       "    mpg  cylinders  displacement  horsepower  weight  acceleration  year  \\\n",
       "0  18.0          8         307.0       130.0  3504.0          12.0    70   \n",
       "1  15.0          8         350.0       165.0  3693.0          11.5    70   \n",
       "2  18.0          8         318.0       150.0  3436.0          11.0    70   \n",
       "3  16.0          8         304.0       150.0  3433.0          12.0    70   \n",
       "4  17.0          8         302.0       140.0  3449.0          10.5    70   \n",
       "\n",
       "  origin                       name  \n",
       "0    USA  chevrolet chevelle malibu  \n",
       "1    USA          buick skylark 320  \n",
       "2    USA         plymouth satellite  \n",
       "3    USA              amc rebel sst  \n",
       "4    USA                ford torino  "
      ]
     },
     "execution_count": 431,
     "metadata": {},
     "output_type": "execute_result"
    }
   ],
   "source": [
    "df[\"origin\"].replace({1: \"USA\", 2: \"Europe\", 3: \"Japan\"},inplace=True)\n",
    "df[:5]"
   ]
  },
  {
   "cell_type": "markdown",
   "metadata": {},
   "source": [
    "**3. Convierta los valores de la columna *mpg* (galones por milla) a kmpl (kilómetros por litro)**\n"
   ]
  },
  {
   "cell_type": "code",
   "execution_count": 432,
   "metadata": {},
   "outputs": [
    {
     "data": {
      "text/plain": [
       "0    7.6518\n",
       "1    6.3765\n",
       "2    7.6518\n",
       "3    6.8016\n",
       "4    7.2267\n",
       "Name: mpg, dtype: float64"
      ]
     },
     "execution_count": 432,
     "metadata": {},
     "output_type": "execute_result"
    }
   ],
   "source": [
    "def conv_kpl(mpg):\n",
    "    '''\n",
    "    Para convertir mpg a kpl, multiplique sus millas por galón (mpg) con 0.4251 \n",
    "    18.0 (mpg) -> 7.6518 (kpl)\n",
    "    ''' \n",
    "    kml = mpg*0.4251\n",
    "#    print(kml)\n",
    "    return kml\n",
    "\n",
    "df[\"mpg\"]= df[\"mpg\"].apply(lambda x: conv_kpl(x))\n",
    "df[\"mpg\"].head()"
   ]
  },
  {
   "cell_type": "markdown",
   "metadata": {},
   "source": [
    "**4. Convierta los valores de la columna peso de libras (*pounds*) a kilogramos**\n"
   ]
  },
  {
   "cell_type": "code",
   "execution_count": 433,
   "metadata": {},
   "outputs": [
    {
     "data": {
      "text/plain": [
       "0    1589.403974\n",
       "1    1675.133811\n",
       "2    1558.559376\n",
       "3    1557.198585\n",
       "4    1564.456137\n",
       "Name: weight, dtype: float64"
      ]
     },
     "execution_count": 433,
     "metadata": {},
     "output_type": "execute_result"
    }
   ],
   "source": [
    "def conv_kg(weight):\n",
    "    ''' Para convertir lb a kg, divida las libras (lb) en 2.046\n",
    "        3504 lb -> 1589.388 kg\n",
    "    '''\n",
    "    kg = weight/2.2046\n",
    "    return kg\n",
    "\n",
    "df[\"weight\"] = df[\"weight\"].apply(lambda x: conv_kg(x))\n",
    "\n",
    "df[\"weight\"].head()"
   ]
  },
  {
   "cell_type": "markdown",
   "metadata": {},
   "source": [
    "**5. Modifique el nombre de la columna *mpg* a kmpl**\n"
   ]
  },
  {
   "cell_type": "code",
   "execution_count": 434,
   "metadata": {},
   "outputs": [
    {
     "data": {
      "text/plain": [
       "0    7.6518\n",
       "1    6.3765\n",
       "2    7.6518\n",
       "3    6.8016\n",
       "4    7.2267\n",
       "Name: kpl, dtype: float64"
      ]
     },
     "execution_count": 434,
     "metadata": {},
     "output_type": "execute_result"
    }
   ],
   "source": [
    "df = df.rename(columns = {'mpg':'kpl'})\n",
    "df[\"kpl\"].head()"
   ]
  },
  {
   "cell_type": "markdown",
   "metadata": {},
   "source": [
    "### Datos perdidos\n",
    "\n"
   ]
  },
  {
   "cell_type": "markdown",
   "metadata": {},
   "source": [
    "**1. Encuentre los nombres de los autos que tengan valores perdidos (*missing data*)**\n"
   ]
  },
  {
   "cell_type": "code",
   "execution_count": 486,
   "metadata": {
    "scrolled": true
   },
   "outputs": [
    {
     "ename": "AttributeError",
     "evalue": "'DataFrame' object has no attribute 'name'",
     "output_type": "error",
     "traceback": [
      "\u001b[1;31m---------------------------------------------------------------------------\u001b[0m",
      "\u001b[1;31mAttributeError\u001b[0m                            Traceback (most recent call last)",
      "\u001b[1;32m<ipython-input-486-e355ef7ba962>\u001b[0m in \u001b[0;36m<module>\u001b[1;34m\u001b[0m\n\u001b[1;32m----> 1\u001b[1;33m \u001b[0mdf\u001b[0m\u001b[1;33m[\u001b[0m\u001b[0mdf\u001b[0m\u001b[1;33m.\u001b[0m\u001b[0misnull\u001b[0m\u001b[1;33m(\u001b[0m\u001b[1;33m)\u001b[0m\u001b[1;33m.\u001b[0m\u001b[0many\u001b[0m\u001b[1;33m(\u001b[0m\u001b[0maxis\u001b[0m\u001b[1;33m=\u001b[0m\u001b[1;36m1\u001b[0m\u001b[1;33m)\u001b[0m\u001b[1;33m]\u001b[0m\u001b[1;33m.\u001b[0m\u001b[0mname\u001b[0m\u001b[1;33m\u001b[0m\u001b[1;33m\u001b[0m\u001b[0m\n\u001b[0m",
      "\u001b[1;32m~\\AppData\\Local\\Continuum\\anaconda3\\lib\\site-packages\\pandas\\core\\generic.py\u001b[0m in \u001b[0;36m__getattr__\u001b[1;34m(self, name)\u001b[0m\n\u001b[0;32m   4374\u001b[0m             \u001b[1;32mif\u001b[0m \u001b[0mself\u001b[0m\u001b[1;33m.\u001b[0m\u001b[0m_info_axis\u001b[0m\u001b[1;33m.\u001b[0m\u001b[0m_can_hold_identifiers_and_holds_name\u001b[0m\u001b[1;33m(\u001b[0m\u001b[0mname\u001b[0m\u001b[1;33m)\u001b[0m\u001b[1;33m:\u001b[0m\u001b[1;33m\u001b[0m\u001b[1;33m\u001b[0m\u001b[0m\n\u001b[0;32m   4375\u001b[0m                 \u001b[1;32mreturn\u001b[0m \u001b[0mself\u001b[0m\u001b[1;33m[\u001b[0m\u001b[0mname\u001b[0m\u001b[1;33m]\u001b[0m\u001b[1;33m\u001b[0m\u001b[1;33m\u001b[0m\u001b[0m\n\u001b[1;32m-> 4376\u001b[1;33m             \u001b[1;32mreturn\u001b[0m \u001b[0mobject\u001b[0m\u001b[1;33m.\u001b[0m\u001b[0m__getattribute__\u001b[0m\u001b[1;33m(\u001b[0m\u001b[0mself\u001b[0m\u001b[1;33m,\u001b[0m \u001b[0mname\u001b[0m\u001b[1;33m)\u001b[0m\u001b[1;33m\u001b[0m\u001b[1;33m\u001b[0m\u001b[0m\n\u001b[0m\u001b[0;32m   4377\u001b[0m \u001b[1;33m\u001b[0m\u001b[0m\n\u001b[0;32m   4378\u001b[0m     \u001b[1;32mdef\u001b[0m \u001b[0m__setattr__\u001b[0m\u001b[1;33m(\u001b[0m\u001b[0mself\u001b[0m\u001b[1;33m,\u001b[0m \u001b[0mname\u001b[0m\u001b[1;33m,\u001b[0m \u001b[0mvalue\u001b[0m\u001b[1;33m)\u001b[0m\u001b[1;33m:\u001b[0m\u001b[1;33m\u001b[0m\u001b[1;33m\u001b[0m\u001b[0m\n",
      "\u001b[1;31mAttributeError\u001b[0m: 'DataFrame' object has no attribute 'name'"
     ]
    }
   ],
   "source": [
    "df[df.isnull().any(axis=1)].name"
   ]
  },
  {
   "cell_type": "markdown",
   "metadata": {},
   "source": [
    "**2. Encuentre los nombres de los atributos que tengan valores perdidos**\n"
   ]
  },
  {
   "cell_type": "code",
   "execution_count": 436,
   "metadata": {},
   "outputs": [
    {
     "data": {
      "text/plain": [
       "kpl             8\n",
       "cylinders       0\n",
       "displacement    0\n",
       "horsepower      6\n",
       "weight          0\n",
       "acceleration    0\n",
       "year            0\n",
       "origin          0\n",
       "name            0\n",
       "dtype: int64"
      ]
     },
     "execution_count": 436,
     "metadata": {},
     "output_type": "execute_result"
    }
   ],
   "source": [
    "df.isnull().sum()"
   ]
  },
  {
   "cell_type": "markdown",
   "metadata": {},
   "source": [
    "**kpl** y **horsepower** tienen valores perdidos con 8 y 6 valores respectivamente"
   ]
  },
  {
   "cell_type": "markdown",
   "metadata": {},
   "source": [
    "**3. Elimines las filas con atributos perdidos ¿Cuántas filas quedan en el dataframe?**"
   ]
  },
  {
   "cell_type": "code",
   "execution_count": 437,
   "metadata": {},
   "outputs": [
    {
     "data": {
      "text/plain": [
       "(392, 9)"
      ]
     },
     "execution_count": 437,
     "metadata": {},
     "output_type": "execute_result"
    }
   ],
   "source": [
    "df.dropna(inplace=True)\n",
    "df.shape"
   ]
  },
  {
   "cell_type": "markdown",
   "metadata": {},
   "source": [
    "*392* filas y 9 columnas, antes 406 filas"
   ]
  },
  {
   "cell_type": "markdown",
   "metadata": {},
   "source": [
    "### Multi-índice\n",
    "\n",
    "**HINT:** Verifique el uso de `.str.split()`* y `str.replace()`**"
   ]
  },
  {
   "cell_type": "markdown",
   "metadata": {},
   "source": [
    "**1. Cree un dataframe con dos columnas a partir del atributo \"*car name*\"**\n",
    "    1. La primera columna debe tener la primera palabra del string en car name* \n",
    "    1. La segunda columna debe tener el resto del string en car name"
   ]
  },
  {
   "cell_type": "code",
   "execution_count": 438,
   "metadata": {},
   "outputs": [
    {
     "data": {
      "text/html": [
       "<div>\n",
       "<style scoped>\n",
       "    .dataframe tbody tr th:only-of-type {\n",
       "        vertical-align: middle;\n",
       "    }\n",
       "\n",
       "    .dataframe tbody tr th {\n",
       "        vertical-align: top;\n",
       "    }\n",
       "\n",
       "    .dataframe thead th {\n",
       "        text-align: right;\n",
       "    }\n",
       "</style>\n",
       "<table border=\"1\" class=\"dataframe\">\n",
       "  <thead>\n",
       "    <tr style=\"text-align: right;\">\n",
       "      <th></th>\n",
       "      <th>0</th>\n",
       "      <th>1</th>\n",
       "    </tr>\n",
       "  </thead>\n",
       "  <tbody>\n",
       "    <tr>\n",
       "      <th>0</th>\n",
       "      <td>chevrolet</td>\n",
       "      <td>chevelle malibu</td>\n",
       "    </tr>\n",
       "    <tr>\n",
       "      <th>1</th>\n",
       "      <td>buick</td>\n",
       "      <td>skylark 320</td>\n",
       "    </tr>\n",
       "    <tr>\n",
       "      <th>2</th>\n",
       "      <td>plymouth</td>\n",
       "      <td>satellite</td>\n",
       "    </tr>\n",
       "    <tr>\n",
       "      <th>3</th>\n",
       "      <td>amc</td>\n",
       "      <td>rebel sst</td>\n",
       "    </tr>\n",
       "    <tr>\n",
       "      <th>4</th>\n",
       "      <td>ford</td>\n",
       "      <td>torino</td>\n",
       "    </tr>\n",
       "  </tbody>\n",
       "</table>\n",
       "</div>"
      ],
      "text/plain": [
       "           0                1\n",
       "0  chevrolet  chevelle malibu\n",
       "1      buick      skylark 320\n",
       "2   plymouth        satellite\n",
       "3        amc        rebel sst\n",
       "4       ford           torino"
      ]
     },
     "execution_count": 438,
     "metadata": {},
     "output_type": "execute_result"
    }
   ],
   "source": [
    "df1 = pd.DataFrame()\n",
    "df1[0] = df[\"name\"].str.split(n=1, expand = True)[0]\n",
    "df1[1] = df[\"name\"].str.split(n=1, expand = True)[1]\n",
    "\n",
    "df1[:5]"
   ]
  },
  {
   "cell_type": "markdown",
   "metadata": {},
   "source": [
    "**2. Elimine la columna *car name* del dataframe y agregue estas nuevas columnas llamándolas *brand* y *model*, respectivamente**"
   ]
  },
  {
   "cell_type": "code",
   "execution_count": 439,
   "metadata": {},
   "outputs": [
    {
     "data": {
      "text/html": [
       "<div>\n",
       "<style scoped>\n",
       "    .dataframe tbody tr th:only-of-type {\n",
       "        vertical-align: middle;\n",
       "    }\n",
       "\n",
       "    .dataframe tbody tr th {\n",
       "        vertical-align: top;\n",
       "    }\n",
       "\n",
       "    .dataframe thead th {\n",
       "        text-align: right;\n",
       "    }\n",
       "</style>\n",
       "<table border=\"1\" class=\"dataframe\">\n",
       "  <thead>\n",
       "    <tr style=\"text-align: right;\">\n",
       "      <th></th>\n",
       "      <th>kpl</th>\n",
       "      <th>cylinders</th>\n",
       "      <th>displacement</th>\n",
       "      <th>horsepower</th>\n",
       "      <th>weight</th>\n",
       "      <th>acceleration</th>\n",
       "      <th>year</th>\n",
       "      <th>origin</th>\n",
       "      <th>brand</th>\n",
       "      <th>model</th>\n",
       "    </tr>\n",
       "  </thead>\n",
       "  <tbody>\n",
       "    <tr>\n",
       "      <th>0</th>\n",
       "      <td>7.6518</td>\n",
       "      <td>8</td>\n",
       "      <td>307.0</td>\n",
       "      <td>130.0</td>\n",
       "      <td>1589.403974</td>\n",
       "      <td>12.0</td>\n",
       "      <td>70</td>\n",
       "      <td>USA</td>\n",
       "      <td>chevrolet</td>\n",
       "      <td>chevelle malibu</td>\n",
       "    </tr>\n",
       "    <tr>\n",
       "      <th>1</th>\n",
       "      <td>6.3765</td>\n",
       "      <td>8</td>\n",
       "      <td>350.0</td>\n",
       "      <td>165.0</td>\n",
       "      <td>1675.133811</td>\n",
       "      <td>11.5</td>\n",
       "      <td>70</td>\n",
       "      <td>USA</td>\n",
       "      <td>buick</td>\n",
       "      <td>skylark 320</td>\n",
       "    </tr>\n",
       "    <tr>\n",
       "      <th>2</th>\n",
       "      <td>7.6518</td>\n",
       "      <td>8</td>\n",
       "      <td>318.0</td>\n",
       "      <td>150.0</td>\n",
       "      <td>1558.559376</td>\n",
       "      <td>11.0</td>\n",
       "      <td>70</td>\n",
       "      <td>USA</td>\n",
       "      <td>plymouth</td>\n",
       "      <td>satellite</td>\n",
       "    </tr>\n",
       "    <tr>\n",
       "      <th>3</th>\n",
       "      <td>6.8016</td>\n",
       "      <td>8</td>\n",
       "      <td>304.0</td>\n",
       "      <td>150.0</td>\n",
       "      <td>1557.198585</td>\n",
       "      <td>12.0</td>\n",
       "      <td>70</td>\n",
       "      <td>USA</td>\n",
       "      <td>amc</td>\n",
       "      <td>rebel sst</td>\n",
       "    </tr>\n",
       "    <tr>\n",
       "      <th>4</th>\n",
       "      <td>7.2267</td>\n",
       "      <td>8</td>\n",
       "      <td>302.0</td>\n",
       "      <td>140.0</td>\n",
       "      <td>1564.456137</td>\n",
       "      <td>10.5</td>\n",
       "      <td>70</td>\n",
       "      <td>USA</td>\n",
       "      <td>ford</td>\n",
       "      <td>torino</td>\n",
       "    </tr>\n",
       "  </tbody>\n",
       "</table>\n",
       "</div>"
      ],
      "text/plain": [
       "      kpl  cylinders  displacement  horsepower       weight  acceleration  \\\n",
       "0  7.6518          8         307.0       130.0  1589.403974          12.0   \n",
       "1  6.3765          8         350.0       165.0  1675.133811          11.5   \n",
       "2  7.6518          8         318.0       150.0  1558.559376          11.0   \n",
       "3  6.8016          8         304.0       150.0  1557.198585          12.0   \n",
       "4  7.2267          8         302.0       140.0  1564.456137          10.5   \n",
       "\n",
       "   year origin      brand            model  \n",
       "0    70    USA  chevrolet  chevelle malibu  \n",
       "1    70    USA      buick      skylark 320  \n",
       "2    70    USA   plymouth        satellite  \n",
       "3    70    USA        amc        rebel sst  \n",
       "4    70    USA       ford           torino  "
      ]
     },
     "execution_count": 439,
     "metadata": {},
     "output_type": "execute_result"
    }
   ],
   "source": [
    "df.drop(['name'], axis=1, inplace=True)\n",
    "df = pd.concat([df,df1],axis=1)\n",
    "df = df.rename(columns = {0:'brand',1:'model'})\n",
    "df[:5]"
   ]
  },
  {
   "cell_type": "markdown",
   "metadata": {},
   "source": [
    "**3. ¿Cuántas marcas (*brand*) únicas existan? ¿Existen columnas repetidas o mal escritas? Mencione cuales y corrijalas**"
   ]
  },
  {
   "cell_type": "code",
   "execution_count": 440,
   "metadata": {
    "scrolled": false
   },
   "outputs": [
    {
     "data": {
      "text/plain": [
       "brand\n",
       "capri        1\n",
       "chevroelt    1\n",
       "hi           1\n",
       "mercedes     1\n",
       "nissan       1\n",
       "toyouta      1\n",
       "triumph      1\n",
       "vokswagen    1\n",
       "dtype: int64"
      ]
     },
     "execution_count": 440,
     "metadata": {},
     "output_type": "execute_result"
    }
   ],
   "source": [
    "#df['brand'].duplicated()\n",
    "#df.groupby(df.brand,as_index=False).size()\n",
    "#df.duplicated(subset='brand', keep='first').sum()\n",
    "df.groupby('brand').size().loc[lambda x: x==1]"
   ]
  },
  {
   "cell_type": "code",
   "execution_count": 441,
   "metadata": {
    "scrolled": true
   },
   "outputs": [
    {
     "data": {
      "text/plain": [
       "brand\n",
       "amc              27\n",
       "audi              7\n",
       "bmw               2\n",
       "buick            17\n",
       "cadillac          2\n",
       "capri             1\n",
       "chevroelt         1\n",
       "chevrolet        43\n",
       "chevy             3\n",
       "chrysler          6\n",
       "datsun           23\n",
       "dodge            28\n",
       "fiat              8\n",
       "ford             48\n",
       "hi                1\n",
       "honda            13\n",
       "maxda             2\n",
       "mazda            10\n",
       "mercedes          1\n",
       "mercedes-benz     2\n",
       "mercury          11\n",
       "nissan            1\n",
       "oldsmobile       10\n",
       "opel              4\n",
       "peugeot           8\n",
       "plymouth         31\n",
       "pontiac          16\n",
       "renault           3\n",
       "saab              4\n",
       "subaru            4\n",
       "toyota           25\n",
       "toyouta           1\n",
       "triumph           1\n",
       "vokswagen         1\n",
       "volkswagen       15\n",
       "volvo             6\n",
       "vw                6\n",
       "dtype: int64"
      ]
     },
     "execution_count": 441,
     "metadata": {},
     "output_type": "execute_result"
    }
   ],
   "source": [
    "df.groupby(df.brand).size()"
   ]
  },
  {
   "cell_type": "markdown",
   "metadata": {},
   "source": [
    "Errores:\n",
    "\n",
    "        1. chevroelt  ->  chevrolet\n",
    "        2. maxda      ->  mazda\n",
    "        3. mercedes   ->  mercedes-benz\n",
    "        4. toyouta    ->  toyota\n",
    "        5. vokswagen  ->  volkswagen"
   ]
  },
  {
   "cell_type": "code",
   "execution_count": 442,
   "metadata": {
    "scrolled": true
   },
   "outputs": [
    {
     "data": {
      "text/plain": [
       "brand\n",
       "amc              27\n",
       "audi              7\n",
       "bmw               2\n",
       "buick            17\n",
       "cadillac          2\n",
       "capri             1\n",
       "chevrolet        44\n",
       "chevy             3\n",
       "chrysler          6\n",
       "datsun           23\n",
       "dodge            28\n",
       "fiat              8\n",
       "ford             48\n",
       "hi                1\n",
       "honda            13\n",
       "mazda            12\n",
       "mercedes-benz     3\n",
       "mercury          11\n",
       "nissan            1\n",
       "oldsmobile       10\n",
       "opel              4\n",
       "peugeot           8\n",
       "plymouth         31\n",
       "pontiac          16\n",
       "renault           3\n",
       "saab              4\n",
       "subaru            4\n",
       "toyota           26\n",
       "triumph           1\n",
       "volkswagen       16\n",
       "volvo             6\n",
       "vw                6\n",
       "dtype: int64"
      ]
     },
     "execution_count": 442,
     "metadata": {},
     "output_type": "execute_result"
    }
   ],
   "source": [
    "df.replace({\"chevroelt\":\"chevrolet\",\"maxda\":\"mazda\",\"mercedes\":\"mercedes-benz\",\n",
    "            \"toyouta\":\"toyota\",\"vokswagen\":\"volkswagen\"}, inplace=True)\n",
    "df.groupby(df.brand).size()"
   ]
  },
  {
   "cell_type": "markdown",
   "metadata": {},
   "source": [
    "**4. Cree un multi-índice que utilice como primera llave a *brand* y como segunda a *model***"
   ]
  },
  {
   "cell_type": "code",
   "execution_count": 459,
   "metadata": {},
   "outputs": [],
   "source": [
    "df.set_index([\"brand\",\"model\"],inplace=True)"
   ]
  },
  {
   "cell_type": "markdown",
   "metadata": {},
   "source": [
    "**5. Muestre los autos con marca *Mazda***"
   ]
  },
  {
   "cell_type": "code",
   "execution_count": 477,
   "metadata": {},
   "outputs": [
    {
     "data": {
      "text/html": [
       "<div>\n",
       "<style scoped>\n",
       "    .dataframe tbody tr th:only-of-type {\n",
       "        vertical-align: middle;\n",
       "    }\n",
       "\n",
       "    .dataframe tbody tr th {\n",
       "        vertical-align: top;\n",
       "    }\n",
       "\n",
       "    .dataframe thead th {\n",
       "        text-align: right;\n",
       "    }\n",
       "</style>\n",
       "<table border=\"1\" class=\"dataframe\">\n",
       "  <thead>\n",
       "    <tr style=\"text-align: right;\">\n",
       "      <th></th>\n",
       "      <th>kpl</th>\n",
       "      <th>cylinders</th>\n",
       "      <th>displacement</th>\n",
       "      <th>horsepower</th>\n",
       "      <th>weight</th>\n",
       "      <th>acceleration</th>\n",
       "      <th>year</th>\n",
       "      <th>origin</th>\n",
       "    </tr>\n",
       "    <tr>\n",
       "      <th>model</th>\n",
       "      <th></th>\n",
       "      <th></th>\n",
       "      <th></th>\n",
       "      <th></th>\n",
       "      <th></th>\n",
       "      <th></th>\n",
       "      <th></th>\n",
       "      <th></th>\n",
       "    </tr>\n",
       "  </thead>\n",
       "  <tbody>\n",
       "    <tr>\n",
       "      <th>rx2 coupe</th>\n",
       "      <td>8.07690</td>\n",
       "      <td>3</td>\n",
       "      <td>70.0</td>\n",
       "      <td>97.0</td>\n",
       "      <td>1056.881067</td>\n",
       "      <td>13.5</td>\n",
       "      <td>72</td>\n",
       "      <td>Japan</td>\n",
       "    </tr>\n",
       "    <tr>\n",
       "      <th>rx3</th>\n",
       "      <td>7.65180</td>\n",
       "      <td>3</td>\n",
       "      <td>70.0</td>\n",
       "      <td>90.0</td>\n",
       "      <td>963.440080</td>\n",
       "      <td>13.5</td>\n",
       "      <td>73</td>\n",
       "      <td>Japan</td>\n",
       "    </tr>\n",
       "    <tr>\n",
       "      <th>rx-4</th>\n",
       "      <td>9.13965</td>\n",
       "      <td>3</td>\n",
       "      <td>80.0</td>\n",
       "      <td>110.0</td>\n",
       "      <td>1233.783906</td>\n",
       "      <td>13.5</td>\n",
       "      <td>77</td>\n",
       "      <td>Japan</td>\n",
       "    </tr>\n",
       "    <tr>\n",
       "      <th>glc deluxe</th>\n",
       "      <td>13.94328</td>\n",
       "      <td>4</td>\n",
       "      <td>78.0</td>\n",
       "      <td>52.0</td>\n",
       "      <td>900.390093</td>\n",
       "      <td>19.4</td>\n",
       "      <td>78</td>\n",
       "      <td>Japan</td>\n",
       "    </tr>\n",
       "    <tr>\n",
       "      <th>glc deluxe</th>\n",
       "      <td>14.49591</td>\n",
       "      <td>4</td>\n",
       "      <td>86.0</td>\n",
       "      <td>65.0</td>\n",
       "      <td>895.854123</td>\n",
       "      <td>15.2</td>\n",
       "      <td>79</td>\n",
       "      <td>Japan</td>\n",
       "    </tr>\n",
       "    <tr>\n",
       "      <th>626</th>\n",
       "      <td>13.30563</td>\n",
       "      <td>4</td>\n",
       "      <td>120.0</td>\n",
       "      <td>75.0</td>\n",
       "      <td>1153.043636</td>\n",
       "      <td>17.5</td>\n",
       "      <td>80</td>\n",
       "      <td>Japan</td>\n",
       "    </tr>\n",
       "    <tr>\n",
       "      <th>glc</th>\n",
       "      <td>19.80966</td>\n",
       "      <td>4</td>\n",
       "      <td>86.0</td>\n",
       "      <td>65.0</td>\n",
       "      <td>957.089721</td>\n",
       "      <td>17.9</td>\n",
       "      <td>80</td>\n",
       "      <td>Japan</td>\n",
       "    </tr>\n",
       "    <tr>\n",
       "      <th>rx-7 gs</th>\n",
       "      <td>10.07487</td>\n",
       "      <td>3</td>\n",
       "      <td>70.0</td>\n",
       "      <td>100.0</td>\n",
       "      <td>1097.704799</td>\n",
       "      <td>12.5</td>\n",
       "      <td>80</td>\n",
       "      <td>Japan</td>\n",
       "    </tr>\n",
       "    <tr>\n",
       "      <th>glc 4</th>\n",
       "      <td>14.49591</td>\n",
       "      <td>4</td>\n",
       "      <td>91.0</td>\n",
       "      <td>68.0</td>\n",
       "      <td>900.390093</td>\n",
       "      <td>16.0</td>\n",
       "      <td>81</td>\n",
       "      <td>Japan</td>\n",
       "    </tr>\n",
       "    <tr>\n",
       "      <th>626</th>\n",
       "      <td>13.43316</td>\n",
       "      <td>4</td>\n",
       "      <td>120.0</td>\n",
       "      <td>74.0</td>\n",
       "      <td>1195.228159</td>\n",
       "      <td>18.3</td>\n",
       "      <td>81</td>\n",
       "      <td>Japan</td>\n",
       "    </tr>\n",
       "    <tr>\n",
       "      <th>glc custom l</th>\n",
       "      <td>15.72870</td>\n",
       "      <td>4</td>\n",
       "      <td>91.0</td>\n",
       "      <td>68.0</td>\n",
       "      <td>918.533974</td>\n",
       "      <td>18.2</td>\n",
       "      <td>82</td>\n",
       "      <td>Japan</td>\n",
       "    </tr>\n",
       "    <tr>\n",
       "      <th>glc custom</th>\n",
       "      <td>13.17810</td>\n",
       "      <td>4</td>\n",
       "      <td>91.0</td>\n",
       "      <td>68.0</td>\n",
       "      <td>893.586138</td>\n",
       "      <td>17.6</td>\n",
       "      <td>82</td>\n",
       "      <td>Japan</td>\n",
       "    </tr>\n",
       "  </tbody>\n",
       "</table>\n",
       "</div>"
      ],
      "text/plain": [
       "                   kpl  cylinders  displacement  horsepower       weight  \\\n",
       "model                                                                      \n",
       "rx2 coupe      8.07690          3          70.0        97.0  1056.881067   \n",
       "rx3            7.65180          3          70.0        90.0   963.440080   \n",
       "rx-4           9.13965          3          80.0       110.0  1233.783906   \n",
       "glc deluxe    13.94328          4          78.0        52.0   900.390093   \n",
       "glc deluxe    14.49591          4          86.0        65.0   895.854123   \n",
       "626           13.30563          4         120.0        75.0  1153.043636   \n",
       "glc           19.80966          4          86.0        65.0   957.089721   \n",
       "rx-7 gs       10.07487          3          70.0       100.0  1097.704799   \n",
       "glc 4         14.49591          4          91.0        68.0   900.390093   \n",
       "626           13.43316          4         120.0        74.0  1195.228159   \n",
       "glc custom l  15.72870          4          91.0        68.0   918.533974   \n",
       "glc custom    13.17810          4          91.0        68.0   893.586138   \n",
       "\n",
       "              acceleration  year origin  \n",
       "model                                    \n",
       "rx2 coupe             13.5    72  Japan  \n",
       "rx3                   13.5    73  Japan  \n",
       "rx-4                  13.5    77  Japan  \n",
       "glc deluxe            19.4    78  Japan  \n",
       "glc deluxe            15.2    79  Japan  \n",
       "626                   17.5    80  Japan  \n",
       "glc                   17.9    80  Japan  \n",
       "rx-7 gs               12.5    80  Japan  \n",
       "glc 4                 16.0    81  Japan  \n",
       "626                   18.3    81  Japan  \n",
       "glc custom l          18.2    82  Japan  \n",
       "glc custom            17.6    82  Japan  "
      ]
     },
     "execution_count": 477,
     "metadata": {},
     "output_type": "execute_result"
    }
   ],
   "source": [
    "df.loc[\"mazda\"]"
   ]
  },
  {
   "cell_type": "markdown",
   "metadata": {},
   "source": [
    "**6. Usando groupby cuente la cantidad de modelos por marca**"
   ]
  },
  {
   "cell_type": "code",
   "execution_count": 502,
   "metadata": {},
   "outputs": [
    {
     "data": {
      "text/plain": [
       "brand       model                 \n",
       "amc         ambassador brougham       1\n",
       "            ambassador dpl            1\n",
       "            ambassador sst            1\n",
       "            concord                   2\n",
       "            concord d/l               1\n",
       "            concord dl 6              1\n",
       "            gremlin                   4\n",
       "            hornet                    4\n",
       "            hornet sportabout (sw)    1\n",
       "            matador                   5\n",
       "            matador (sw)              2\n",
       "            pacer                     1\n",
       "            pacer d/l                 1\n",
       "            rebel sst                 1\n",
       "            spirit dl                 1\n",
       "audi        100 ls                    1\n",
       "            100ls                     2\n",
       "            4000                      1\n",
       "            5000                      1\n",
       "            5000s (diesel)            1\n",
       "            fox                       1\n",
       "bmw         2002                      1\n",
       "            320i                      1\n",
       "buick       century                   2\n",
       "            century 350               1\n",
       "            century limited           1\n",
       "            century luxus (sw)        1\n",
       "            century special           1\n",
       "            electra 225 custom        1\n",
       "            estate wagon (sw)         2\n",
       "                                     ..\n",
       "toyota      corona mark ii            1\n",
       "            corona mark ii (sw)       1\n",
       "            cressida                  1\n",
       "            mark ii                   2\n",
       "            starlet                   1\n",
       "            tercel                    1\n",
       "triumph     tr7 coupe                 1\n",
       "volkswagen  1131 deluxe sedan         1\n",
       "            411 (sw)                  1\n",
       "            dasher                    3\n",
       "            jetta                     1\n",
       "            model 111                 1\n",
       "            rabbit                    3\n",
       "            rabbit custom             1\n",
       "            rabbit custom diesel      1\n",
       "            rabbit l                  1\n",
       "            scirocco                  1\n",
       "            super beetle              1\n",
       "            type 3                    1\n",
       "volvo       144ea                     1\n",
       "            145e (sw)                 1\n",
       "            244dl                     1\n",
       "            245                       1\n",
       "            264gl                     1\n",
       "            diesel                    1\n",
       "vw          dasher (diesel)           1\n",
       "            pickup                    1\n",
       "            rabbit                    2\n",
       "            rabbit c (diesel)         1\n",
       "            rabbit custom             1\n",
       "Length: 297, dtype: int64"
      ]
     },
     "execution_count": 502,
     "metadata": {},
     "output_type": "execute_result"
    }
   ],
   "source": [
    "df.groupby(['brand','model']).size()"
   ]
  },
  {
   "cell_type": "markdown",
   "metadata": {},
   "source": [
    "### Buscando autos\n",
    "\n",
    "1. Por cada marca encuentre el auto más pesado y el más liviano\n",
    "1. Por cada marca encuentre los autos con mayor y menor caballos de fuerza, respectivamente\n",
    "1. Por cada marca encuentre los autos con menor y mayor desempeño en términos de kmpl, respectivamente"
   ]
  },
  {
   "cell_type": "markdown",
   "metadata": {},
   "source": [
    "**1. Por cada marca encuentre el auto más antiguo y el más nuevo**"
   ]
  },
  {
   "cell_type": "code",
   "execution_count": 536,
   "metadata": {},
   "outputs": [
    {
     "data": {
      "text/plain": [
       "brand\n",
       "amc              80\n",
       "audi             80\n",
       "bmw              77\n",
       "buick            82\n",
       "cadillac         79\n",
       "capri            76\n",
       "chevrolet        82\n",
       "chevy            82\n",
       "chrysler         82\n",
       "datsun           82\n",
       "dodge            82\n",
       "fiat             79\n",
       "ford             82\n",
       "hi               70\n",
       "honda            82\n",
       "mazda            82\n",
       "mercedes-benz    80\n",
       "mercury          82\n",
       "nissan           82\n",
       "oldsmobile       82\n",
       "opel             76\n",
       "peugeot          81\n",
       "plymouth         82\n",
       "pontiac          82\n",
       "renault          77\n",
       "saab             78\n",
       "subaru           81\n",
       "toyota           82\n",
       "triumph          80\n",
       "volkswagen       82\n",
       "volvo            81\n",
       "vw               82\n",
       "Name: year, dtype: int32"
      ]
     },
     "execution_count": 536,
     "metadata": {},
     "output_type": "execute_result"
    }
   ],
   "source": [
    "grupo = df.groupby(\"brand\")\n",
    "grupo[\"year\"].max()"
   ]
  },
  {
   "cell_type": "code",
   "execution_count": 537,
   "metadata": {},
   "outputs": [
    {
     "data": {
      "text/plain": [
       "brand\n",
       "amc              70\n",
       "audi             70\n",
       "bmw              70\n",
       "buick            70\n",
       "cadillac         76\n",
       "capri            76\n",
       "chevrolet        70\n",
       "chevy            70\n",
       "chrysler         72\n",
       "datsun           70\n",
       "dodge            70\n",
       "fiat             71\n",
       "ford             70\n",
       "hi               70\n",
       "honda            74\n",
       "mazda            72\n",
       "mercedes-benz    76\n",
       "mercury          71\n",
       "nissan           82\n",
       "oldsmobile       72\n",
       "opel             71\n",
       "peugeot          70\n",
       "plymouth         70\n",
       "pontiac          70\n",
       "renault          72\n",
       "saab             70\n",
       "subaru           74\n",
       "toyota           70\n",
       "triumph          80\n",
       "volkswagen       70\n",
       "volvo            72\n",
       "vw               76\n",
       "Name: year, dtype: int32"
      ]
     },
     "execution_count": 537,
     "metadata": {},
     "output_type": "execute_result"
    }
   ],
   "source": [
    "grupo[\"year\"].min()"
   ]
  },
  {
   "cell_type": "markdown",
   "metadata": {},
   "source": [
    "### Análisis exploratorio\n",
    "\n",
    "1. Encuentre el promedio y la desviación estándar de cada atributo numérico en toda la tabla y por marca\n",
    "1. Construya gráficos de barras del rendimiento (kmpl) promedio en función del año, peso, origen,  número de cilindros y marca (use *barras de error* con la desviación estándar del rendimiento)\n",
    "1. Viendo estos gráficos, ¿Qué puede concluir respecto a la relación del rendimiento con estos factores?"
   ]
  },
  {
   "cell_type": "code",
   "execution_count": null,
   "metadata": {},
   "outputs": [],
   "source": []
  },
  {
   "cell_type": "markdown",
   "metadata": {},
   "source": [
    "### Gráficos interactivos\n",
    "\n",
    "1. Construya una interfaz gráfica usando `ipywidgets` que permita seleccionar dos atributos y los gráfique como un *scatter plot*\n",
    "    1. El primer atributo será el eje de abscisas y el segundo atributo el eje de ordenadas\n",
    "    1. Ese el atributo de origen como el color de los marcadores\n",
    "1. Los gráficos deben ser legibles, los ejes deben estar etiquetados, use leyenda para los marcadores"
   ]
  },
  {
   "cell_type": "code",
   "execution_count": null,
   "metadata": {},
   "outputs": [],
   "source": []
  }
 ],
 "metadata": {
  "kernelspec": {
   "display_name": "Python 3",
   "language": "python",
   "name": "python3"
  },
  "language_info": {
   "codemirror_mode": {
    "name": "ipython",
    "version": 3
   },
   "file_extension": ".py",
   "mimetype": "text/x-python",
   "name": "python",
   "nbconvert_exporter": "python",
   "pygments_lexer": "ipython3",
   "version": "3.7.1"
  }
 },
 "nbformat": 4,
 "nbformat_minor": 2
}
